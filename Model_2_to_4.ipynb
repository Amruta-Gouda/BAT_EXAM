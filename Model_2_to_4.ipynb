{
  "nbformat": 4,
  "nbformat_minor": 0,
  "metadata": {
    "colab": {
      "name": "Model_2_to_4.ipynb",
      "provenance": [],
      "authorship_tag": "ABX9TyNY6st5VkWkUBKY+z40rm4o",
      "include_colab_link": true
    },
    "kernelspec": {
      "name": "python3",
      "display_name": "Python 3"
    }
  },
  "cells": [
    {
      "cell_type": "markdown",
      "metadata": {
        "id": "view-in-github",
        "colab_type": "text"
      },
      "source": [
        "<a href=\"https://colab.research.google.com/github/Amruta-Gouda/BAT_EXAM/blob/master/Model_2_to_4.ipynb\" target=\"_parent\"><img src=\"https://colab.research.google.com/assets/colab-badge.svg\" alt=\"Open In Colab\"/></a>"
      ]
    },
    {
      "cell_type": "code",
      "metadata": {
        "id": "a8Biyla6KRfd",
        "colab_type": "code",
        "colab": {
          "base_uri": "https://localhost:8080/",
          "height": 1000
        },
        "outputId": "02d5161a-b9d8-477d-f0b4-f67deb3af268"
      },
      "source": [
        "!pip install turicreate"
      ],
      "execution_count": 1,
      "outputs": [
        {
          "output_type": "stream",
          "text": [
            "Collecting turicreate\n",
            "\u001b[?25l  Downloading https://files.pythonhosted.org/packages/e4/76/76c624d7ae1116b22cd559288596a1f9aa7a50f8f43f4481033fc047f5e9/turicreate-6.3-cp36-cp36m-manylinux1_x86_64.whl (91.9MB)\n",
            "\u001b[K     |████████████████████████████████| 91.9MB 79kB/s \n",
            "\u001b[?25hRequirement already satisfied: numpy in /usr/local/lib/python3.6/dist-packages (from turicreate) (1.18.5)\n",
            "Requirement already satisfied: pandas>=0.23.2 in /usr/local/lib/python3.6/dist-packages (from turicreate) (1.0.5)\n",
            "Requirement already satisfied: six>=1.10.0 in /usr/local/lib/python3.6/dist-packages (from turicreate) (1.15.0)\n",
            "Requirement already satisfied: scipy>=1.1.0 in /usr/local/lib/python3.6/dist-packages (from turicreate) (1.4.1)\n",
            "Requirement already satisfied: prettytable==0.7.2 in /usr/local/lib/python3.6/dist-packages (from turicreate) (0.7.2)\n",
            "Collecting resampy==0.2.1\n",
            "\u001b[?25l  Downloading https://files.pythonhosted.org/packages/14/b6/66a06d85474190b50aee1a6c09cdc95bb405ac47338b27e9b21409da1760/resampy-0.2.1.tar.gz (322kB)\n",
            "\u001b[K     |████████████████████████████████| 327kB 37.2MB/s \n",
            "\u001b[?25hCollecting tensorflow<=2.0.1,>=2.0.0\n",
            "\u001b[?25l  Downloading https://files.pythonhosted.org/packages/43/16/b07e3f7a4a024b47918f7018967eb984b0c542458a6141d8c48515aa81d4/tensorflow-2.0.1-cp36-cp36m-manylinux2010_x86_64.whl (86.3MB)\n",
            "\u001b[K     |████████████████████████████████| 86.3MB 96kB/s \n",
            "\u001b[?25hRequirement already satisfied: requests>=2.9.1 in /usr/local/lib/python3.6/dist-packages (from turicreate) (2.23.0)\n",
            "Collecting coremltools==3.3\n",
            "\u001b[?25l  Downloading https://files.pythonhosted.org/packages/77/19/611916d1ef326d38857d93af5ba184f6ad7491642e0fa4f9082e7d82f034/coremltools-3.3-cp36-none-manylinux1_x86_64.whl (3.4MB)\n",
            "\u001b[K     |████████████████████████████████| 3.4MB 39.8MB/s \n",
            "\u001b[?25hRequirement already satisfied: decorator>=4.0.9 in /usr/local/lib/python3.6/dist-packages (from turicreate) (4.4.2)\n",
            "Requirement already satisfied: pillow>=5.2.0 in /usr/local/lib/python3.6/dist-packages (from turicreate) (7.0.0)\n",
            "Requirement already satisfied: pytz>=2017.2 in /usr/local/lib/python3.6/dist-packages (from pandas>=0.23.2->turicreate) (2018.9)\n",
            "Requirement already satisfied: python-dateutil>=2.6.1 in /usr/local/lib/python3.6/dist-packages (from pandas>=0.23.2->turicreate) (2.8.1)\n",
            "Requirement already satisfied: numba>=0.32 in /usr/local/lib/python3.6/dist-packages (from resampy==0.2.1->turicreate) (0.48.0)\n",
            "Collecting tensorboard<2.1.0,>=2.0.0\n",
            "\u001b[?25l  Downloading https://files.pythonhosted.org/packages/76/54/99b9d5d52d5cb732f099baaaf7740403e83fe6b0cedde940fabd2b13d75a/tensorboard-2.0.2-py3-none-any.whl (3.8MB)\n",
            "\u001b[K     |████████████████████████████████| 3.8MB 38.7MB/s \n",
            "\u001b[?25hRequirement already satisfied: opt-einsum>=2.3.2 in /usr/local/lib/python3.6/dist-packages (from tensorflow<=2.0.1,>=2.0.0->turicreate) (3.3.0)\n",
            "Collecting tensorflow-estimator<2.1.0,>=2.0.0\n",
            "\u001b[?25l  Downloading https://files.pythonhosted.org/packages/fc/08/8b927337b7019c374719145d1dceba21a8bb909b93b1ad6f8fb7d22c1ca1/tensorflow_estimator-2.0.1-py2.py3-none-any.whl (449kB)\n",
            "\u001b[K     |████████████████████████████████| 450kB 37.8MB/s \n",
            "\u001b[?25hRequirement already satisfied: keras-applications>=1.0.8 in /usr/local/lib/python3.6/dist-packages (from tensorflow<=2.0.1,>=2.0.0->turicreate) (1.0.8)\n",
            "Requirement already satisfied: astor>=0.6.0 in /usr/local/lib/python3.6/dist-packages (from tensorflow<=2.0.1,>=2.0.0->turicreate) (0.8.1)\n",
            "Requirement already satisfied: keras-preprocessing>=1.0.5 in /usr/local/lib/python3.6/dist-packages (from tensorflow<=2.0.1,>=2.0.0->turicreate) (1.1.2)\n",
            "Collecting gast==0.2.2\n",
            "  Downloading https://files.pythonhosted.org/packages/4e/35/11749bf99b2d4e3cceb4d55ca22590b0d7c2c62b9de38ac4a4a7f4687421/gast-0.2.2.tar.gz\n",
            "Requirement already satisfied: termcolor>=1.1.0 in /usr/local/lib/python3.6/dist-packages (from tensorflow<=2.0.1,>=2.0.0->turicreate) (1.1.0)\n",
            "Requirement already satisfied: absl-py>=0.7.0 in /usr/local/lib/python3.6/dist-packages (from tensorflow<=2.0.1,>=2.0.0->turicreate) (0.9.0)\n",
            "Requirement already satisfied: protobuf>=3.6.1 in /usr/local/lib/python3.6/dist-packages (from tensorflow<=2.0.1,>=2.0.0->turicreate) (3.12.2)\n",
            "Requirement already satisfied: grpcio>=1.8.6 in /usr/local/lib/python3.6/dist-packages (from tensorflow<=2.0.1,>=2.0.0->turicreate) (1.30.0)\n",
            "Requirement already satisfied: wrapt>=1.11.1 in /usr/local/lib/python3.6/dist-packages (from tensorflow<=2.0.1,>=2.0.0->turicreate) (1.12.1)\n",
            "Requirement already satisfied: google-pasta>=0.1.6 in /usr/local/lib/python3.6/dist-packages (from tensorflow<=2.0.1,>=2.0.0->turicreate) (0.2.0)\n",
            "Requirement already satisfied: wheel>=0.26; python_version >= \"3\" in /usr/local/lib/python3.6/dist-packages (from tensorflow<=2.0.1,>=2.0.0->turicreate) (0.34.2)\n",
            "Requirement already satisfied: chardet<4,>=3.0.2 in /usr/local/lib/python3.6/dist-packages (from requests>=2.9.1->turicreate) (3.0.4)\n",
            "Requirement already satisfied: idna<3,>=2.5 in /usr/local/lib/python3.6/dist-packages (from requests>=2.9.1->turicreate) (2.10)\n",
            "Requirement already satisfied: urllib3!=1.25.0,!=1.25.1,<1.26,>=1.21.1 in /usr/local/lib/python3.6/dist-packages (from requests>=2.9.1->turicreate) (1.24.3)\n",
            "Requirement already satisfied: certifi>=2017.4.17 in /usr/local/lib/python3.6/dist-packages (from requests>=2.9.1->turicreate) (2020.6.20)\n",
            "Requirement already satisfied: setuptools in /usr/local/lib/python3.6/dist-packages (from numba>=0.32->resampy==0.2.1->turicreate) (49.1.0)\n",
            "Requirement already satisfied: llvmlite<0.32.0,>=0.31.0dev0 in /usr/local/lib/python3.6/dist-packages (from numba>=0.32->resampy==0.2.1->turicreate) (0.31.0)\n",
            "Requirement already satisfied: markdown>=2.6.8 in /usr/local/lib/python3.6/dist-packages (from tensorboard<2.1.0,>=2.0.0->tensorflow<=2.0.1,>=2.0.0->turicreate) (3.2.2)\n",
            "Requirement already satisfied: werkzeug>=0.11.15 in /usr/local/lib/python3.6/dist-packages (from tensorboard<2.1.0,>=2.0.0->tensorflow<=2.0.1,>=2.0.0->turicreate) (1.0.1)\n",
            "Requirement already satisfied: google-auth<2,>=1.6.3 in /usr/local/lib/python3.6/dist-packages (from tensorboard<2.1.0,>=2.0.0->tensorflow<=2.0.1,>=2.0.0->turicreate) (1.17.2)\n",
            "Requirement already satisfied: google-auth-oauthlib<0.5,>=0.4.1 in /usr/local/lib/python3.6/dist-packages (from tensorboard<2.1.0,>=2.0.0->tensorflow<=2.0.1,>=2.0.0->turicreate) (0.4.1)\n",
            "Requirement already satisfied: h5py in /usr/local/lib/python3.6/dist-packages (from keras-applications>=1.0.8->tensorflow<=2.0.1,>=2.0.0->turicreate) (2.10.0)\n",
            "Requirement already satisfied: importlib-metadata; python_version < \"3.8\" in /usr/local/lib/python3.6/dist-packages (from markdown>=2.6.8->tensorboard<2.1.0,>=2.0.0->tensorflow<=2.0.1,>=2.0.0->turicreate) (1.7.0)\n",
            "Requirement already satisfied: rsa<5,>=3.1.4; python_version >= \"3\" in /usr/local/lib/python3.6/dist-packages (from google-auth<2,>=1.6.3->tensorboard<2.1.0,>=2.0.0->tensorflow<=2.0.1,>=2.0.0->turicreate) (4.6)\n",
            "Requirement already satisfied: pyasn1-modules>=0.2.1 in /usr/local/lib/python3.6/dist-packages (from google-auth<2,>=1.6.3->tensorboard<2.1.0,>=2.0.0->tensorflow<=2.0.1,>=2.0.0->turicreate) (0.2.8)\n",
            "Requirement already satisfied: cachetools<5.0,>=2.0.0 in /usr/local/lib/python3.6/dist-packages (from google-auth<2,>=1.6.3->tensorboard<2.1.0,>=2.0.0->tensorflow<=2.0.1,>=2.0.0->turicreate) (4.1.1)\n",
            "Requirement already satisfied: requests-oauthlib>=0.7.0 in /usr/local/lib/python3.6/dist-packages (from google-auth-oauthlib<0.5,>=0.4.1->tensorboard<2.1.0,>=2.0.0->tensorflow<=2.0.1,>=2.0.0->turicreate) (1.3.0)\n",
            "Requirement already satisfied: zipp>=0.5 in /usr/local/lib/python3.6/dist-packages (from importlib-metadata; python_version < \"3.8\"->markdown>=2.6.8->tensorboard<2.1.0,>=2.0.0->tensorflow<=2.0.1,>=2.0.0->turicreate) (3.1.0)\n",
            "Requirement already satisfied: pyasn1>=0.1.3 in /usr/local/lib/python3.6/dist-packages (from rsa<5,>=3.1.4; python_version >= \"3\"->google-auth<2,>=1.6.3->tensorboard<2.1.0,>=2.0.0->tensorflow<=2.0.1,>=2.0.0->turicreate) (0.4.8)\n",
            "Requirement already satisfied: oauthlib>=3.0.0 in /usr/local/lib/python3.6/dist-packages (from requests-oauthlib>=0.7.0->google-auth-oauthlib<0.5,>=0.4.1->tensorboard<2.1.0,>=2.0.0->tensorflow<=2.0.1,>=2.0.0->turicreate) (3.1.0)\n",
            "Building wheels for collected packages: resampy, gast\n",
            "  Building wheel for resampy (setup.py) ... \u001b[?25l\u001b[?25hdone\n",
            "  Created wheel for resampy: filename=resampy-0.2.1-cp36-none-any.whl size=320850 sha256=b126599e5fd2057d89a00768a539b72e4d0d93f29050c1c6b6313f98381d3317\n",
            "  Stored in directory: /root/.cache/pip/wheels/ff/4f/ed/2e6c676c23efe5394bb40ade50662e90eb46e29b48324c5f9b\n",
            "  Building wheel for gast (setup.py) ... \u001b[?25l\u001b[?25hdone\n",
            "  Created wheel for gast: filename=gast-0.2.2-cp36-none-any.whl size=7540 sha256=282c8450ff08ac447dcd09c77ee7cb92a58f62d50d09400590ec251bb885d173\n",
            "  Stored in directory: /root/.cache/pip/wheels/5c/2e/7e/a1d4d4fcebe6c381f378ce7743a3ced3699feb89bcfbdadadd\n",
            "Successfully built resampy gast\n",
            "\u001b[31mERROR: tensorflow-probability 0.10.0 has requirement gast>=0.3.2, but you'll have gast 0.2.2 which is incompatible.\u001b[0m\n",
            "Installing collected packages: resampy, tensorboard, tensorflow-estimator, gast, tensorflow, coremltools, turicreate\n",
            "  Found existing installation: resampy 0.2.2\n",
            "    Uninstalling resampy-0.2.2:\n",
            "      Successfully uninstalled resampy-0.2.2\n",
            "  Found existing installation: tensorboard 2.2.2\n",
            "    Uninstalling tensorboard-2.2.2:\n",
            "      Successfully uninstalled tensorboard-2.2.2\n",
            "  Found existing installation: tensorflow-estimator 2.2.0\n",
            "    Uninstalling tensorflow-estimator-2.2.0:\n",
            "      Successfully uninstalled tensorflow-estimator-2.2.0\n",
            "  Found existing installation: gast 0.3.3\n",
            "    Uninstalling gast-0.3.3:\n",
            "      Successfully uninstalled gast-0.3.3\n",
            "  Found existing installation: tensorflow 2.2.0\n",
            "    Uninstalling tensorflow-2.2.0:\n",
            "      Successfully uninstalled tensorflow-2.2.0\n",
            "Successfully installed coremltools-3.3 gast-0.2.2 resampy-0.2.1 tensorboard-2.0.2 tensorflow-2.0.1 tensorflow-estimator-2.0.1 turicreate-6.3\n"
          ],
          "name": "stdout"
        }
      ]
    },
    {
      "cell_type": "code",
      "metadata": {
        "id": "5D765emeKhMD",
        "colab_type": "code",
        "colab": {}
      },
      "source": [
        "!pip install gast>=0.3.2"
      ],
      "execution_count": null,
      "outputs": []
    },
    {
      "cell_type": "code",
      "metadata": {
        "id": "jNDtL5TqKj1h",
        "colab_type": "code",
        "colab": {}
      },
      "source": [
        "import turicreate as tc\n",
        "import numpy as np\n",
        "import pandas as pd"
      ],
      "execution_count": 2,
      "outputs": []
    },
    {
      "cell_type": "code",
      "metadata": {
        "id": "_I0MpS5YNn0m",
        "colab_type": "code",
        "colab": {}
      },
      "source": [
        "#Model_2.POPULARITY BASED RECOMMENDATION MODEL"
      ],
      "execution_count": null,
      "outputs": []
    },
    {
      "cell_type": "code",
      "metadata": {
        "id": "Yl11yMvGOfrK",
        "colab_type": "code",
        "colab": {}
      },
      "source": [
        "#Building  a model to recommend the most popular movies to users (that is, all users will receive the same recommendation). We can use the popularity ﹣ recommender recommendation function in turicrete to achieve this."
      ],
      "execution_count": 21,
      "outputs": []
    },
    {
      "cell_type": "code",
      "metadata": {
        "id": "_mPYSz_mKsCg",
        "colab_type": "code",
        "colab": {}
      },
      "source": [
        "r_cols = ['userId', 'movieId', 'rating', 'timestamp']\n",
        "data = pd.read_csv('u.data', sep='\\t', names=r_cols,encoding='latin-1')"
      ],
      "execution_count": 3,
      "outputs": []
    },
    {
      "cell_type": "code",
      "metadata": {
        "id": "bNTZwf8QKtEr",
        "colab_type": "code",
        "colab": {}
      },
      "source": [
        "u_cols = ['user_id', 'age', 'sex', 'occupation', 'zip_code']\n",
        "users = pd.read_csv('u.user', sep='|', names=u_cols,encoding='latin-1') "
      ],
      "execution_count": 4,
      "outputs": []
    },
    {
      "cell_type": "code",
      "metadata": {
        "id": "8CT_1sD6Kx1L",
        "colab_type": "code",
        "colab": {}
      },
      "source": [
        "np.random.seed(123)\n",
        "train,test = np.split(data.sample(frac=1), [int(.7*len(data))]) # Data needs to be converted to SFrame format"
      ],
      "execution_count": 5,
      "outputs": []
    },
    {
      "cell_type": "code",
      "metadata": {
        "id": "fiAR1tSGK0tg",
        "colab_type": "code",
        "colab": {}
      },
      "source": [
        "train_data = tc.SFrame(train) \n",
        "test_data = tc.SFrame(test)"
      ],
      "execution_count": 6,
      "outputs": []
    },
    {
      "cell_type": "code",
      "metadata": {
        "id": "MVqH4uclK3Tk",
        "colab_type": "code",
        "colab": {
          "base_uri": "https://localhost:8080/",
          "height": 121
        },
        "outputId": "c25a0043-d72d-4cb0-90ab-1ea9774ba989"
      },
      "source": [
        "# training model\n",
        "popularity_model = tc.recommender.popularity_recommender.create(train_data, user_id='userId', item_id='movieId', target='rating')"
      ],
      "execution_count": 7,
      "outputs": [
        {
          "output_type": "display_data",
          "data": {
            "text/html": [
              "<pre>Warning: Ignoring columns timestamp;</pre>"
            ],
            "text/plain": [
              "Warning: Ignoring columns timestamp;"
            ]
          },
          "metadata": {
            "tags": []
          }
        },
        {
          "output_type": "display_data",
          "data": {
            "text/html": [
              "<pre>    To use these columns in scoring predictions, use a model that allows the use of additional features.</pre>"
            ],
            "text/plain": [
              "    To use these columns in scoring predictions, use a model that allows the use of additional features."
            ]
          },
          "metadata": {
            "tags": []
          }
        },
        {
          "output_type": "display_data",
          "data": {
            "text/html": [
              "<pre>Preparing data set.</pre>"
            ],
            "text/plain": [
              "Preparing data set."
            ]
          },
          "metadata": {
            "tags": []
          }
        },
        {
          "output_type": "display_data",
          "data": {
            "text/html": [
              "<pre>    Data has 70000 observations with 943 users and 1635 items.</pre>"
            ],
            "text/plain": [
              "    Data has 70000 observations with 943 users and 1635 items."
            ]
          },
          "metadata": {
            "tags": []
          }
        },
        {
          "output_type": "display_data",
          "data": {
            "text/html": [
              "<pre>    Data prepared in: 0.142746s</pre>"
            ],
            "text/plain": [
              "    Data prepared in: 0.142746s"
            ]
          },
          "metadata": {
            "tags": []
          }
        },
        {
          "output_type": "display_data",
          "data": {
            "text/html": [
              "<pre>70000 observations to process; with 1635 unique items.</pre>"
            ],
            "text/plain": [
              "70000 observations to process; with 1635 unique items."
            ]
          },
          "metadata": {
            "tags": []
          }
        }
      ]
    },
    {
      "cell_type": "code",
      "metadata": {
        "id": "ggjqrVo1OE0K",
        "colab_type": "code",
        "colab": {}
      },
      "source": [
        "#train_data: SFrame contains the training data we need\n",
        "#User ID: this column contains the ID of each user\n",
        "#Item \"ID: this column contains each movie (movie ID) to be recommended\n",
        "#target: this column contains the rating or rating given by the user"
      ],
      "execution_count": 20,
      "outputs": []
    },
    {
      "cell_type": "code",
      "metadata": {
        "id": "4WqEav4xK4gD",
        "colab_type": "code",
        "colab": {
          "base_uri": "https://localhost:8080/",
          "height": 555
        },
        "outputId": "c0b6e8cc-c742-4533-c3da-c57ff4c850fb"
      },
      "source": [
        "# making recommendations\n",
        "popularity_recomm = popularity_model.recommend(users=[1,2,3,4,5],k=5)\n",
        "popularity_recomm.print_rows(num_rows=25)"
      ],
      "execution_count": 8,
      "outputs": [
        {
          "output_type": "stream",
          "text": [
            "+--------+---------+-------+------+\n",
            "| userId | movieId | score | rank |\n",
            "+--------+---------+-------+------+\n",
            "|   1    |   1653  |  5.0  |  1   |\n",
            "|   1    |   1617  |  5.0  |  2   |\n",
            "|   1    |   1201  |  5.0  |  3   |\n",
            "|   1    |   1599  |  5.0  |  4   |\n",
            "|   1    |   1472  |  5.0  |  5   |\n",
            "|   2    |   1653  |  5.0  |  1   |\n",
            "|   2    |   1617  |  5.0  |  2   |\n",
            "|   2    |   1201  |  5.0  |  3   |\n",
            "|   2    |   1599  |  5.0  |  4   |\n",
            "|   2    |   1472  |  5.0  |  5   |\n",
            "|   3    |   1653  |  5.0  |  1   |\n",
            "|   3    |   1617  |  5.0  |  2   |\n",
            "|   3    |   1201  |  5.0  |  3   |\n",
            "|   3    |   1599  |  5.0  |  4   |\n",
            "|   3    |   1472  |  5.0  |  5   |\n",
            "|   4    |   1653  |  5.0  |  1   |\n",
            "|   4    |   1617  |  5.0  |  2   |\n",
            "|   4    |   1201  |  5.0  |  3   |\n",
            "|   4    |   1599  |  5.0  |  4   |\n",
            "|   4    |   1472  |  5.0  |  5   |\n",
            "|   5    |   1653  |  5.0  |  1   |\n",
            "|   5    |   1617  |  5.0  |  2   |\n",
            "|   5    |   1201  |  5.0  |  3   |\n",
            "|   5    |   1599  |  5.0  |  4   |\n",
            "|   5    |   1472  |  5.0  |  5   |\n",
            "+--------+---------+-------+------+\n",
            "[25 rows x 4 columns]\n",
            "\n"
          ],
          "name": "stdout"
        }
      ]
    },
    {
      "cell_type": "code",
      "metadata": {
        "id": "T35_va1IOsjP",
        "colab_type": "code",
        "colab": {}
      },
      "source": [
        "#All users' recommendations here are the same - 1201, 1122 That is to say, all the users who watch the movie give the highest score."
      ],
      "execution_count": null,
      "outputs": []
    },
    {
      "cell_type": "code",
      "metadata": {
        "id": "6bqgSElYK-uC",
        "colab_type": "code",
        "colab": {
          "base_uri": "https://localhost:8080/",
          "height": 1000
        },
        "outputId": "5705ebaa-aca1-4ef7-d5e1-60db69f255d0"
      },
      "source": [
        "popularity_model.evaluate(train_data,metric='rmse') #Checkig the RMSE value on train data"
      ],
      "execution_count": 9,
      "outputs": [
        {
          "output_type": "stream",
          "text": [
            "\n",
            "Overall RMSE: 0.9978538528662002\n",
            "\n",
            "Per User RMSE (best)\n",
            "+--------+--------------------+-------+\n",
            "| userId |        rmse        | count |\n",
            "+--------+--------------------+-------+\n",
            "|  874   | 0.4536629795771372 |   22  |\n",
            "+--------+--------------------+-------+\n",
            "[1 rows x 3 columns]\n",
            "\n",
            "\n",
            "Per User RMSE (worst)\n",
            "+--------+--------------------+-------+\n",
            "| userId |        rmse        | count |\n",
            "+--------+--------------------+-------+\n",
            "|  688   | 2.0175832109590095 |   14  |\n",
            "+--------+--------------------+-------+\n",
            "[1 rows x 3 columns]\n",
            "\n",
            "\n",
            "Per Item RMSE (best)\n",
            "+---------+------+-------+\n",
            "| movieId | rmse | count |\n",
            "+---------+------+-------+\n",
            "|   1460  | 0.0  |   1   |\n",
            "+---------+------+-------+\n",
            "[1 rows x 3 columns]\n",
            "\n",
            "\n",
            "Per Item RMSE (worst)\n",
            "+---------+------+-------+\n",
            "| movieId | rmse | count |\n",
            "+---------+------+-------+\n",
            "|   1491  | 2.0  |   2   |\n",
            "+---------+------+-------+\n",
            "[1 rows x 3 columns]\n",
            "\n"
          ],
          "name": "stdout"
        },
        {
          "output_type": "execute_result",
          "data": {
            "text/plain": [
              "{'rmse_by_item': Columns:\n",
              " \tmovieId\tint\n",
              " \trmse\tfloat\n",
              " \tcount\tint\n",
              " \n",
              " Rows: 1635\n",
              " \n",
              " Data:\n",
              " +---------+--------------------+-------+\n",
              " | movieId |        rmse        | count |\n",
              " +---------+--------------------+-------+\n",
              " |   1611  |        0.0         |   1   |\n",
              " |   118   | 1.1113211311699016 |  207  |\n",
              " |   660   | 0.9534789379152593 |  108  |\n",
              " |   1379  | 0.8329931278350429 |   7   |\n",
              " |   839   | 1.4142135623730951 |   3   |\n",
              " |   699   |  0.9084379536165   |   68  |\n",
              " |   567   | 1.142628548566856  |   25  |\n",
              " |   773   | 1.0897247358851685 |   12  |\n",
              " |   1029  | 1.299038105676658  |   8   |\n",
              " |   1504  |        0.0         |   2   |\n",
              " +---------+--------------------+-------+\n",
              " [1635 rows x 3 columns]\n",
              " Note: Only the head of the SFrame is printed.\n",
              " You can use print_rows(num_rows=m, num_columns=n) to print more rows and columns.,\n",
              " 'rmse_by_user': Columns:\n",
              " \tuserId\tint\n",
              " \trmse\tfloat\n",
              " \tcount\tint\n",
              " \n",
              " Rows: 943\n",
              " \n",
              " Data:\n",
              " +--------+--------------------+-------+\n",
              " | userId |        rmse        | count |\n",
              " +--------+--------------------+-------+\n",
              " |  118   | 1.1820022350592008 |   43  |\n",
              " |  660   | 1.1428741707669556 |  153  |\n",
              " |  839   | 1.092516208912609  |   32  |\n",
              " |  699   | 0.8685305254453594 |  101  |\n",
              " |  567   |  1.03087576467657  |  105  |\n",
              " |  773   | 1.1221850298702127 |  117  |\n",
              " |  435   | 0.9155357461761986 |  269  |\n",
              " |  554   | 0.7127251075278817 |   70  |\n",
              " |  898   | 0.9369711387283096 |   24  |\n",
              " |  840   | 0.8102238754844717 |  142  |\n",
              " +--------+--------------------+-------+\n",
              " [943 rows x 3 columns]\n",
              " Note: Only the head of the SFrame is printed.\n",
              " You can use print_rows(num_rows=m, num_columns=n) to print more rows and columns.,\n",
              " 'rmse_overall': 0.9978538528662002}"
            ]
          },
          "metadata": {
            "tags": []
          },
          "execution_count": 9
        }
      ]
    },
    {
      "cell_type": "code",
      "metadata": {
        "id": "d9V3OYydNL6Z",
        "colab_type": "code",
        "colab": {
          "base_uri": "https://localhost:8080/",
          "height": 1000
        },
        "outputId": "0163a37f-109d-4ff8-aaf1-99fc1c4fb813"
      },
      "source": [
        "popularity_model.evaluate(test_data,metric='rmse') #Checkig the RMSE value on test data"
      ],
      "execution_count": 17,
      "outputs": [
        {
          "output_type": "stream",
          "text": [
            "\n",
            "Overall RMSE: 1.0228480091147893\n",
            "\n",
            "Per User RMSE (best)\n",
            "+--------+----------------------+-------+\n",
            "| userId |         rmse         | count |\n",
            "+--------+----------------------+-------+\n",
            "|  572   | 0.040667240316008386 |   4   |\n",
            "+--------+----------------------+-------+\n",
            "[1 rows x 3 columns]\n",
            "\n",
            "\n",
            "Per User RMSE (worst)\n",
            "+--------+--------------------+-------+\n",
            "| userId |        rmse        | count |\n",
            "+--------+--------------------+-------+\n",
            "|  202   | 2.3103073422775884 |   6   |\n",
            "+--------+--------------------+-------+\n",
            "[1 rows x 3 columns]\n",
            "\n",
            "\n",
            "Per Item RMSE (best)\n",
            "+---------+------+-------+\n",
            "| movieId | rmse | count |\n",
            "+---------+------+-------+\n",
            "|   1537  | 0.0  |   1   |\n",
            "+---------+------+-------+\n",
            "[1 rows x 3 columns]\n",
            "\n",
            "\n",
            "Per Item RMSE (worst)\n",
            "+---------+------+-------+\n",
            "| movieId | rmse | count |\n",
            "+---------+------+-------+\n",
            "|   1617  | 4.0  |   1   |\n",
            "+---------+------+-------+\n",
            "[1 rows x 3 columns]\n",
            "\n"
          ],
          "name": "stdout"
        },
        {
          "output_type": "execute_result",
          "data": {
            "text/plain": [
              "{'rmse_by_item': Columns:\n",
              " \tmovieId\tint\n",
              " \trmse\tfloat\n",
              " \tcount\tint\n",
              " \n",
              " Rows: 1486\n",
              " \n",
              " Data:\n",
              " +---------+--------------------+-------+\n",
              " | movieId |        rmse        | count |\n",
              " +---------+--------------------+-------+\n",
              " |   1611  |        0.0         |   1   |\n",
              " |   118   | 1.0891069616461941 |   86  |\n",
              " |   660   | 1.0225509401687791 |   45  |\n",
              " |   1236  | 0.5336285714285713 |   1   |\n",
              " |   1657  | 0.5336285714285713 |   1   |\n",
              " |   839   |        2.0         |   1   |\n",
              " |   699   | 1.0331863570735467 |   34  |\n",
              " |   567   | 1.3108775686539151 |   10  |\n",
              " |   773   | 0.8139410298049853 |   5   |\n",
              " |   1029  |        1.25        |   6   |\n",
              " +---------+--------------------+-------+\n",
              " [1486 rows x 3 columns]\n",
              " Note: Only the head of the SFrame is printed.\n",
              " You can use print_rows(num_rows=m, num_columns=n) to print more rows and columns.,\n",
              " 'rmse_by_user': Columns:\n",
              " \tuserId\tint\n",
              " \trmse\tfloat\n",
              " \tcount\tint\n",
              " \n",
              " Rows: 943\n",
              " \n",
              " Data:\n",
              " +--------+--------------------+-------+\n",
              " | userId |        rmse        | count |\n",
              " +--------+--------------------+-------+\n",
              " |  118   | 1.2583057831875875 |   28  |\n",
              " |  660   | 1.1770075721877664 |   71  |\n",
              " |  839   | 1.054942139425417  |   25  |\n",
              " |  699   | 0.8922852251315362 |   48  |\n",
              " |  567   | 0.9312600420475053 |   50  |\n",
              " |  773   | 0.9731913116355977 |   44  |\n",
              " |  435   | 0.9272374934527664 |  110  |\n",
              " |  554   | 0.6068163258695101 |   44  |\n",
              " |  898   | 1.2376963286777802 |   6   |\n",
              " |  840   | 0.8751770410048366 |   55  |\n",
              " +--------+--------------------+-------+\n",
              " [943 rows x 3 columns]\n",
              " Note: Only the head of the SFrame is printed.\n",
              " You can use print_rows(num_rows=m, num_columns=n) to print more rows and columns.,\n",
              " 'rmse_overall': 1.0228480091147893}"
            ]
          },
          "metadata": {
            "tags": []
          },
          "execution_count": 17
        }
      ]
    },
    {
      "cell_type": "code",
      "metadata": {
        "id": "kopknMwxNMXs",
        "colab_type": "code",
        "colab": {}
      },
      "source": [
        ""
      ],
      "execution_count": null,
      "outputs": []
    },
    {
      "cell_type": "code",
      "metadata": {
        "id": "0UCmQKGPMJWM",
        "colab_type": "code",
        "colab": {}
      },
      "source": [
        ""
      ],
      "execution_count": null,
      "outputs": []
    },
    {
      "cell_type": "code",
      "metadata": {
        "id": "Cg4Y0brJMqwP",
        "colab_type": "code",
        "colab": {}
      },
      "source": [
        "#Model_3.CONTENT BASED RECOMMENDATION MODEL"
      ],
      "execution_count": null,
      "outputs": []
    },
    {
      "cell_type": "code",
      "metadata": {
        "id": "D80spXMAMqzt",
        "colab_type": "code",
        "colab": {}
      },
      "source": [
        "train_data = tc.SFrame(train) \n",
        "test_data = tc.SFrame(test)"
      ],
      "execution_count": 12,
      "outputs": []
    },
    {
      "cell_type": "code",
      "metadata": {
        "id": "MwmZUL5UMJhI",
        "colab_type": "code",
        "colab": {
          "base_uri": "https://localhost:8080/",
          "height": 1000
        },
        "outputId": "935e491a-7624-4e36-bd3f-f96b69c13108"
      },
      "source": [
        "# training the model\n",
        "content_model = tc.recommender.create(train_data, user_id='userId', item_id='movieId', target='rating')\n",
        "\n",
        "# making recommendations\n",
        "content_recomm = content_model.recommend(users=[1,2,3,4,5],k=5)\n",
        "content_recomm.print_rows(num_rows=15)"
      ],
      "execution_count": 16,
      "outputs": [
        {
          "output_type": "display_data",
          "data": {
            "text/html": [
              "<pre>Preparing data set.</pre>"
            ],
            "text/plain": [
              "Preparing data set."
            ]
          },
          "metadata": {
            "tags": []
          }
        },
        {
          "output_type": "display_data",
          "data": {
            "text/html": [
              "<pre>    Data has 70000 observations with 943 users and 1635 items.</pre>"
            ],
            "text/plain": [
              "    Data has 70000 observations with 943 users and 1635 items."
            ]
          },
          "metadata": {
            "tags": []
          }
        },
        {
          "output_type": "display_data",
          "data": {
            "text/html": [
              "<pre>    Data prepared in: 0.132291s</pre>"
            ],
            "text/plain": [
              "    Data prepared in: 0.132291s"
            ]
          },
          "metadata": {
            "tags": []
          }
        },
        {
          "output_type": "display_data",
          "data": {
            "text/html": [
              "<pre>Training ranking_factorization_recommender for recommendations.</pre>"
            ],
            "text/plain": [
              "Training ranking_factorization_recommender for recommendations."
            ]
          },
          "metadata": {
            "tags": []
          }
        },
        {
          "output_type": "display_data",
          "data": {
            "text/html": [
              "<pre>+--------------------------------+--------------------------------------------------+----------+</pre>"
            ],
            "text/plain": [
              "+--------------------------------+--------------------------------------------------+----------+"
            ]
          },
          "metadata": {
            "tags": []
          }
        },
        {
          "output_type": "display_data",
          "data": {
            "text/html": [
              "<pre>| Parameter                      | Description                                      | Value    |</pre>"
            ],
            "text/plain": [
              "| Parameter                      | Description                                      | Value    |"
            ]
          },
          "metadata": {
            "tags": []
          }
        },
        {
          "output_type": "display_data",
          "data": {
            "text/html": [
              "<pre>+--------------------------------+--------------------------------------------------+----------+</pre>"
            ],
            "text/plain": [
              "+--------------------------------+--------------------------------------------------+----------+"
            ]
          },
          "metadata": {
            "tags": []
          }
        },
        {
          "output_type": "display_data",
          "data": {
            "text/html": [
              "<pre>| num_factors                    | Factor Dimension                                 | 32       |</pre>"
            ],
            "text/plain": [
              "| num_factors                    | Factor Dimension                                 | 32       |"
            ]
          },
          "metadata": {
            "tags": []
          }
        },
        {
          "output_type": "display_data",
          "data": {
            "text/html": [
              "<pre>| regularization                 | L2 Regularization on Factors                     | 1e-09    |</pre>"
            ],
            "text/plain": [
              "| regularization                 | L2 Regularization on Factors                     | 1e-09    |"
            ]
          },
          "metadata": {
            "tags": []
          }
        },
        {
          "output_type": "display_data",
          "data": {
            "text/html": [
              "<pre>| solver                         | Solver used for training                         | adagrad  |</pre>"
            ],
            "text/plain": [
              "| solver                         | Solver used for training                         | adagrad  |"
            ]
          },
          "metadata": {
            "tags": []
          }
        },
        {
          "output_type": "display_data",
          "data": {
            "text/html": [
              "<pre>| linear_regularization          | L2 Regularization on Linear Coefficients         | 1e-09    |</pre>"
            ],
            "text/plain": [
              "| linear_regularization          | L2 Regularization on Linear Coefficients         | 1e-09    |"
            ]
          },
          "metadata": {
            "tags": []
          }
        },
        {
          "output_type": "display_data",
          "data": {
            "text/html": [
              "<pre>| ranking_regularization         | Rank-based Regularization Weight                 | 0.25     |</pre>"
            ],
            "text/plain": [
              "| ranking_regularization         | Rank-based Regularization Weight                 | 0.25     |"
            ]
          },
          "metadata": {
            "tags": []
          }
        },
        {
          "output_type": "display_data",
          "data": {
            "text/html": [
              "<pre>| max_iterations                 | Maximum Number of Iterations                     | 25       |</pre>"
            ],
            "text/plain": [
              "| max_iterations                 | Maximum Number of Iterations                     | 25       |"
            ]
          },
          "metadata": {
            "tags": []
          }
        },
        {
          "output_type": "display_data",
          "data": {
            "text/html": [
              "<pre>+--------------------------------+--------------------------------------------------+----------+</pre>"
            ],
            "text/plain": [
              "+--------------------------------+--------------------------------------------------+----------+"
            ]
          },
          "metadata": {
            "tags": []
          }
        },
        {
          "output_type": "display_data",
          "data": {
            "text/html": [
              "<pre>  Optimizing model using SGD; tuning step size.</pre>"
            ],
            "text/plain": [
              "  Optimizing model using SGD; tuning step size."
            ]
          },
          "metadata": {
            "tags": []
          }
        },
        {
          "output_type": "display_data",
          "data": {
            "text/html": [
              "<pre>  Using 10000 / 70000 points for tuning the step size.</pre>"
            ],
            "text/plain": [
              "  Using 10000 / 70000 points for tuning the step size."
            ]
          },
          "metadata": {
            "tags": []
          }
        },
        {
          "output_type": "display_data",
          "data": {
            "text/html": [
              "<pre>+---------+-------------------+------------------------------------------+</pre>"
            ],
            "text/plain": [
              "+---------+-------------------+------------------------------------------+"
            ]
          },
          "metadata": {
            "tags": []
          }
        },
        {
          "output_type": "display_data",
          "data": {
            "text/html": [
              "<pre>| Attempt | Initial Step Size | Estimated Objective Value                |</pre>"
            ],
            "text/plain": [
              "| Attempt | Initial Step Size | Estimated Objective Value                |"
            ]
          },
          "metadata": {
            "tags": []
          }
        },
        {
          "output_type": "display_data",
          "data": {
            "text/html": [
              "<pre>+---------+-------------------+------------------------------------------+</pre>"
            ],
            "text/plain": [
              "+---------+-------------------+------------------------------------------+"
            ]
          },
          "metadata": {
            "tags": []
          }
        },
        {
          "output_type": "display_data",
          "data": {
            "text/html": [
              "<pre>| 0       | 16.6667           | Not Viable                               |</pre>"
            ],
            "text/plain": [
              "| 0       | 16.6667           | Not Viable                               |"
            ]
          },
          "metadata": {
            "tags": []
          }
        },
        {
          "output_type": "display_data",
          "data": {
            "text/html": [
              "<pre>| 1       | 4.16667           | Not Viable                               |</pre>"
            ],
            "text/plain": [
              "| 1       | 4.16667           | Not Viable                               |"
            ]
          },
          "metadata": {
            "tags": []
          }
        },
        {
          "output_type": "display_data",
          "data": {
            "text/html": [
              "<pre>| 2       | 1.04167           | Not Viable                               |</pre>"
            ],
            "text/plain": [
              "| 2       | 1.04167           | Not Viable                               |"
            ]
          },
          "metadata": {
            "tags": []
          }
        },
        {
          "output_type": "display_data",
          "data": {
            "text/html": [
              "<pre>| 3       | 0.260417          | Not Viable                               |</pre>"
            ],
            "text/plain": [
              "| 3       | 0.260417          | Not Viable                               |"
            ]
          },
          "metadata": {
            "tags": []
          }
        },
        {
          "output_type": "display_data",
          "data": {
            "text/html": [
              "<pre>| 4       | 0.0651042         | 1.2695                                   |</pre>"
            ],
            "text/plain": [
              "| 4       | 0.0651042         | 1.2695                                   |"
            ]
          },
          "metadata": {
            "tags": []
          }
        },
        {
          "output_type": "display_data",
          "data": {
            "text/html": [
              "<pre>| 5       | 0.0325521         | 1.84553                                  |</pre>"
            ],
            "text/plain": [
              "| 5       | 0.0325521         | 1.84553                                  |"
            ]
          },
          "metadata": {
            "tags": []
          }
        },
        {
          "output_type": "display_data",
          "data": {
            "text/html": [
              "<pre>| 6       | 0.016276          | 1.98267                                  |</pre>"
            ],
            "text/plain": [
              "| 6       | 0.016276          | 1.98267                                  |"
            ]
          },
          "metadata": {
            "tags": []
          }
        },
        {
          "output_type": "display_data",
          "data": {
            "text/html": [
              "<pre>| 7       | 0.00813802        | 2.15787                                  |</pre>"
            ],
            "text/plain": [
              "| 7       | 0.00813802        | 2.15787                                  |"
            ]
          },
          "metadata": {
            "tags": []
          }
        },
        {
          "output_type": "display_data",
          "data": {
            "text/html": [
              "<pre>+---------+-------------------+------------------------------------------+</pre>"
            ],
            "text/plain": [
              "+---------+-------------------+------------------------------------------+"
            ]
          },
          "metadata": {
            "tags": []
          }
        },
        {
          "output_type": "display_data",
          "data": {
            "text/html": [
              "<pre>| Final   | 0.0651042         | 1.2695                                   |</pre>"
            ],
            "text/plain": [
              "| Final   | 0.0651042         | 1.2695                                   |"
            ]
          },
          "metadata": {
            "tags": []
          }
        },
        {
          "output_type": "display_data",
          "data": {
            "text/html": [
              "<pre>+---------+-------------------+------------------------------------------+</pre>"
            ],
            "text/plain": [
              "+---------+-------------------+------------------------------------------+"
            ]
          },
          "metadata": {
            "tags": []
          }
        },
        {
          "output_type": "display_data",
          "data": {
            "text/html": [
              "<pre>Starting Optimization.</pre>"
            ],
            "text/plain": [
              "Starting Optimization."
            ]
          },
          "metadata": {
            "tags": []
          }
        },
        {
          "output_type": "display_data",
          "data": {
            "text/html": [
              "<pre>+---------+--------------+-------------------+-----------------------+-------------+</pre>"
            ],
            "text/plain": [
              "+---------+--------------+-------------------+-----------------------+-------------+"
            ]
          },
          "metadata": {
            "tags": []
          }
        },
        {
          "output_type": "display_data",
          "data": {
            "text/html": [
              "<pre>| Iter.   | Elapsed Time | Approx. Objective | Approx. Training RMSE | Step Size   |</pre>"
            ],
            "text/plain": [
              "| Iter.   | Elapsed Time | Approx. Objective | Approx. Training RMSE | Step Size   |"
            ]
          },
          "metadata": {
            "tags": []
          }
        },
        {
          "output_type": "display_data",
          "data": {
            "text/html": [
              "<pre>+---------+--------------+-------------------+-----------------------+-------------+</pre>"
            ],
            "text/plain": [
              "+---------+--------------+-------------------+-----------------------+-------------+"
            ]
          },
          "metadata": {
            "tags": []
          }
        },
        {
          "output_type": "display_data",
          "data": {
            "text/html": [
              "<pre>| Initial | 153us        | 2.49107           | 1.12717               |             |</pre>"
            ],
            "text/plain": [
              "| Initial | 153us        | 2.49107           | 1.12717               |             |"
            ]
          },
          "metadata": {
            "tags": []
          }
        },
        {
          "output_type": "display_data",
          "data": {
            "text/html": [
              "<pre>+---------+--------------+-------------------+-----------------------+-------------+</pre>"
            ],
            "text/plain": [
              "+---------+--------------+-------------------+-----------------------+-------------+"
            ]
          },
          "metadata": {
            "tags": []
          }
        },
        {
          "output_type": "display_data",
          "data": {
            "text/html": [
              "<pre>| 1       | 232.306ms    | 2.12337           | 1.12761               | 0.0651042   |</pre>"
            ],
            "text/plain": [
              "| 1       | 232.306ms    | 2.12337           | 1.12761               | 0.0651042   |"
            ]
          },
          "metadata": {
            "tags": []
          }
        },
        {
          "output_type": "display_data",
          "data": {
            "text/html": [
              "<pre>| 2       | 448.838ms    | 1.88048           | 1.04216               | 0.0651042   |</pre>"
            ],
            "text/plain": [
              "| 2       | 448.838ms    | 1.88048           | 1.04216               | 0.0651042   |"
            ]
          },
          "metadata": {
            "tags": []
          }
        },
        {
          "output_type": "display_data",
          "data": {
            "text/html": [
              "<pre>| 3       | 655.399ms    | 1.77353           | 1.00408               | 0.0651042   |</pre>"
            ],
            "text/plain": [
              "| 3       | 655.399ms    | 1.77353           | 1.00408               | 0.0651042   |"
            ]
          },
          "metadata": {
            "tags": []
          }
        },
        {
          "output_type": "display_data",
          "data": {
            "text/html": [
              "<pre>| 4       | 864.11ms     | 1.70916           | 0.982396              | 0.0651042   |</pre>"
            ],
            "text/plain": [
              "| 4       | 864.11ms     | 1.70916           | 0.982396              | 0.0651042   |"
            ]
          },
          "metadata": {
            "tags": []
          }
        },
        {
          "output_type": "display_data",
          "data": {
            "text/html": [
              "<pre>| 5       | 1.06s        | 1.66137           | 0.963513              | 0.0651042   |</pre>"
            ],
            "text/plain": [
              "| 5       | 1.06s        | 1.66137           | 0.963513              | 0.0651042   |"
            ]
          },
          "metadata": {
            "tags": []
          }
        },
        {
          "output_type": "display_data",
          "data": {
            "text/html": [
              "<pre>| 10      | 2.05s        | 1.49944           | 0.907082              | 0.0651042   |</pre>"
            ],
            "text/plain": [
              "| 10      | 2.05s        | 1.49944           | 0.907082              | 0.0651042   |"
            ]
          },
          "metadata": {
            "tags": []
          }
        },
        {
          "output_type": "display_data",
          "data": {
            "text/html": [
              "<pre>| 25      | 4.96s        | 1.27321           | 0.815737              | 0.0651042   |</pre>"
            ],
            "text/plain": [
              "| 25      | 4.96s        | 1.27321           | 0.815737              | 0.0651042   |"
            ]
          },
          "metadata": {
            "tags": []
          }
        },
        {
          "output_type": "display_data",
          "data": {
            "text/html": [
              "<pre>+---------+--------------+-------------------+-----------------------+-------------+</pre>"
            ],
            "text/plain": [
              "+---------+--------------+-------------------+-----------------------+-------------+"
            ]
          },
          "metadata": {
            "tags": []
          }
        },
        {
          "output_type": "display_data",
          "data": {
            "text/html": [
              "<pre>Optimization Complete: Maximum number of passes through the data reached.</pre>"
            ],
            "text/plain": [
              "Optimization Complete: Maximum number of passes through the data reached."
            ]
          },
          "metadata": {
            "tags": []
          }
        },
        {
          "output_type": "display_data",
          "data": {
            "text/html": [
              "<pre>Computing final objective value and training RMSE.</pre>"
            ],
            "text/plain": [
              "Computing final objective value and training RMSE."
            ]
          },
          "metadata": {
            "tags": []
          }
        },
        {
          "output_type": "display_data",
          "data": {
            "text/html": [
              "<pre>       Final objective value: 1.28012</pre>"
            ],
            "text/plain": [
              "       Final objective value: 1.28012"
            ]
          },
          "metadata": {
            "tags": []
          }
        },
        {
          "output_type": "display_data",
          "data": {
            "text/html": [
              "<pre>       Final training RMSE: 0.797137</pre>"
            ],
            "text/plain": [
              "       Final training RMSE: 0.797137"
            ]
          },
          "metadata": {
            "tags": []
          }
        },
        {
          "output_type": "stream",
          "text": [
            "+--------+---------+--------------------+------+\n",
            "| userId | movieId |       score        | rank |\n",
            "+--------+---------+--------------------+------+\n",
            "|   1    |   408   | 4.798205900587359  |  1   |\n",
            "|   1    |    12   | 4.768755305208483  |  2   |\n",
            "|   1    |    64   | 4.713715064920702  |  3   |\n",
            "|   1    |   474   | 4.670556354917803  |  4   |\n",
            "|   1    |   515   | 4.437791157163897  |  5   |\n",
            "|   2    |   127   |  5.30734846333436  |  1   |\n",
            "|   2    |   276   | 5.241974655188837  |  2   |\n",
            "|   2    |   268   | 4.891807410516062  |  3   |\n",
            "|   2    |   258   | 4.8822369907277015 |  4   |\n",
            "|   2    |   124   | 4.851056608952799  |  5   |\n",
            "|   3    |   313   | 4.883482742704668  |  1   |\n",
            "|   3    |    50   | 4.831041741766253  |  2   |\n",
            "|   3    |   173   | 4.760687101282397  |  3   |\n",
            "|   3    |   181   | 4.619593608774462  |  4   |\n",
            "|   3    |   248   | 4.5988064889090445 |  5   |\n",
            "+--------+---------+--------------------+------+\n",
            "[25 rows x 4 columns]\n",
            "\n"
          ],
          "name": "stdout"
        }
      ]
    },
    {
      "cell_type": "code",
      "metadata": {
        "id": "U1t0SY_rMJko",
        "colab_type": "code",
        "colab": {
          "base_uri": "https://localhost:8080/",
          "height": 1000
        },
        "outputId": "4e55bc30-6a54-44bd-c675-2e3cdbc3dbe7"
      },
      "source": [
        "content_model.evaluate(train_data,metric='rmse') #Checkig the RMSE value on train data"
      ],
      "execution_count": 18,
      "outputs": [
        {
          "output_type": "stream",
          "text": [
            "\n",
            "Overall RMSE: 0.7971369493445665\n",
            "\n",
            "Per User RMSE (best)\n",
            "+--------+---------------------+-------+\n",
            "| userId |         rmse        | count |\n",
            "+--------+---------------------+-------+\n",
            "|  549   | 0.36750849728405033 |   15  |\n",
            "+--------+---------------------+-------+\n",
            "[1 rows x 3 columns]\n",
            "\n",
            "\n",
            "Per User RMSE (worst)\n",
            "+--------+-------------------+-------+\n",
            "| userId |        rmse       | count |\n",
            "+--------+-------------------+-------+\n",
            "|  739   | 1.373540474099427 |   26  |\n",
            "+--------+-------------------+-------+\n",
            "[1 rows x 3 columns]\n",
            "\n",
            "\n",
            "Per Item RMSE (best)\n",
            "+---------+------------------------+-------+\n",
            "| movieId |          rmse          | count |\n",
            "+---------+------------------------+-------+\n",
            "|   830   | 0.00043016589294486707 |   1   |\n",
            "+---------+------------------------+-------+\n",
            "[1 rows x 3 columns]\n",
            "\n",
            "\n",
            "Per Item RMSE (worst)\n",
            "+---------+--------------------+-------+\n",
            "| movieId |        rmse        | count |\n",
            "+---------+--------------------+-------+\n",
            "|   1467  | 2.6123693517446265 |   1   |\n",
            "+---------+--------------------+-------+\n",
            "[1 rows x 3 columns]\n",
            "\n"
          ],
          "name": "stdout"
        },
        {
          "output_type": "execute_result",
          "data": {
            "text/plain": [
              "{'rmse_by_item': Columns:\n",
              " \tmovieId\tint\n",
              " \trmse\tfloat\n",
              " \tcount\tint\n",
              " \n",
              " Rows: 1635\n",
              " \n",
              " Data:\n",
              " +---------+--------------------+-------+\n",
              " | movieId |        rmse        | count |\n",
              " +---------+--------------------+-------+\n",
              " |   1611  | 0.6780316570915623 |   1   |\n",
              " |   118   | 0.7096878403990833 |  207  |\n",
              " |   660   | 0.7689758305542954 |  108  |\n",
              " |   1379  | 0.5956624648030234 |   7   |\n",
              " |   839   | 0.8685057033939734 |   3   |\n",
              " |   699   | 0.7592736377177175 |   68  |\n",
              " |   567   | 0.7655517579506474 |   25  |\n",
              " |   773   | 0.8275371325999354 |   12  |\n",
              " |   1029  | 0.742708656728132  |   8   |\n",
              " |   1504  | 0.8176588736719064 |   2   |\n",
              " +---------+--------------------+-------+\n",
              " [1635 rows x 3 columns]\n",
              " Note: Only the head of the SFrame is printed.\n",
              " You can use print_rows(num_rows=m, num_columns=n) to print more rows and columns.,\n",
              " 'rmse_by_user': Columns:\n",
              " \tuserId\tint\n",
              " \trmse\tfloat\n",
              " \tcount\tint\n",
              " \n",
              " Rows: 943\n",
              " \n",
              " Data:\n",
              " +--------+--------------------+-------+\n",
              " | userId |        rmse        | count |\n",
              " +--------+--------------------+-------+\n",
              " |  118   | 0.8252344418411196 |   43  |\n",
              " |  660   | 0.687090833268363  |  153  |\n",
              " |  839   | 1.0129182598520345 |   32  |\n",
              " |  699   | 0.6881787859067304 |  101  |\n",
              " |  567   | 0.7538436658799555 |  105  |\n",
              " |  773   | 0.9178404452531627 |  117  |\n",
              " |  435   | 0.6722659435430777 |  269  |\n",
              " |  554   | 0.6877764009025734 |   70  |\n",
              " |  898   | 0.8427046211239075 |   24  |\n",
              " |  840   | 0.8649774810888631 |  142  |\n",
              " +--------+--------------------+-------+\n",
              " [943 rows x 3 columns]\n",
              " Note: Only the head of the SFrame is printed.\n",
              " You can use print_rows(num_rows=m, num_columns=n) to print more rows and columns.,\n",
              " 'rmse_overall': 0.7971369493445665}"
            ]
          },
          "metadata": {
            "tags": []
          },
          "execution_count": 18
        }
      ]
    },
    {
      "cell_type": "code",
      "metadata": {
        "id": "NX9O45p2NeYl",
        "colab_type": "code",
        "colab": {
          "base_uri": "https://localhost:8080/",
          "height": 1000
        },
        "outputId": "cffd812d-8d40-4ea0-c6b5-a705dedbead8"
      },
      "source": [
        "content_model.evaluate(test_data,metric='rmse') #Checkig the RMSE value on test data"
      ],
      "execution_count": 19,
      "outputs": [
        {
          "output_type": "stream",
          "text": [
            "\n",
            "Overall RMSE: 1.0658587704730003\n",
            "\n",
            "Per User RMSE (best)\n",
            "+--------+--------------------+-------+\n",
            "| userId |        rmse        | count |\n",
            "+--------+--------------------+-------+\n",
            "|  319   | 0.2403238389443131 |   3   |\n",
            "+--------+--------------------+-------+\n",
            "[1 rows x 3 columns]\n",
            "\n",
            "\n",
            "Per User RMSE (worst)\n",
            "+--------+-------------------+-------+\n",
            "| userId |        rmse       | count |\n",
            "+--------+-------------------+-------+\n",
            "|  179   | 2.214954825650237 |   16  |\n",
            "+--------+-------------------+-------+\n",
            "[1 rows x 3 columns]\n",
            "\n",
            "\n",
            "Per Item RMSE (best)\n",
            "+---------+----------------------+-------+\n",
            "| movieId |         rmse         | count |\n",
            "+---------+----------------------+-------+\n",
            "|   1510  | 0.013623478681842993 |   1   |\n",
            "+---------+----------------------+-------+\n",
            "[1 rows x 3 columns]\n",
            "\n",
            "\n",
            "Per Item RMSE (worst)\n",
            "+---------+--------------------+-------+\n",
            "| movieId |        rmse        | count |\n",
            "+---------+--------------------+-------+\n",
            "|   838   | 3.3246667042479348 |   1   |\n",
            "+---------+--------------------+-------+\n",
            "[1 rows x 3 columns]\n",
            "\n"
          ],
          "name": "stdout"
        },
        {
          "output_type": "execute_result",
          "data": {
            "text/plain": [
              "{'rmse_by_item': Columns:\n",
              " \tmovieId\tint\n",
              " \trmse\tfloat\n",
              " \tcount\tint\n",
              " \n",
              " Rows: 1486\n",
              " \n",
              " Data:\n",
              " +---------+--------------------+-------+\n",
              " | movieId |        rmse        | count |\n",
              " +---------+--------------------+-------+\n",
              " |   1611  | 0.8973848185449116 |   1   |\n",
              " |   118   | 0.9177791389017835 |   86  |\n",
              " |   660   | 1.099968770810695  |   45  |\n",
              " |   1236  | 0.9515935993526545 |   1   |\n",
              " |   1657  | 0.4883370051690106 |   1   |\n",
              " |   839   | 0.8980423372757791 |   1   |\n",
              " |   699   | 1.1598391704382887 |   34  |\n",
              " |   567   | 1.259589046981869  |   10  |\n",
              " |   773   | 1.3968078307397522 |   5   |\n",
              " |   1029  | 1.0638019754787191 |   6   |\n",
              " +---------+--------------------+-------+\n",
              " [1486 rows x 3 columns]\n",
              " Note: Only the head of the SFrame is printed.\n",
              " You can use print_rows(num_rows=m, num_columns=n) to print more rows and columns.,\n",
              " 'rmse_by_user': Columns:\n",
              " \tuserId\tint\n",
              " \trmse\tfloat\n",
              " \tcount\tint\n",
              " \n",
              " Rows: 943\n",
              " \n",
              " Data:\n",
              " +--------+--------------------+-------+\n",
              " | userId |        rmse        | count |\n",
              " +--------+--------------------+-------+\n",
              " |  118   | 0.904214761729121  |   28  |\n",
              " |  660   | 0.787905765459726  |   71  |\n",
              " |  839   | 1.0097742882596492 |   25  |\n",
              " |  699   | 0.8257630520643213 |   48  |\n",
              " |  567   | 1.2464738991512785 |   50  |\n",
              " |  773   | 1.3000720589834585 |   44  |\n",
              " |  435   | 1.0575467018575413 |  110  |\n",
              " |  554   | 0.7982760436139821 |   44  |\n",
              " |  898   | 1.4533918422702292 |   6   |\n",
              " |  840   | 1.0960687570022163 |   55  |\n",
              " +--------+--------------------+-------+\n",
              " [943 rows x 3 columns]\n",
              " Note: Only the head of the SFrame is printed.\n",
              " You can use print_rows(num_rows=m, num_columns=n) to print more rows and columns.,\n",
              " 'rmse_overall': 1.0658587704730003}"
            ]
          },
          "metadata": {
            "tags": []
          },
          "execution_count": 19
        }
      ]
    },
    {
      "cell_type": "code",
      "metadata": {
        "id": "ADUHZSHiPC1D",
        "colab_type": "code",
        "colab": {}
      },
      "source": [
        ""
      ],
      "execution_count": null,
      "outputs": []
    },
    {
      "cell_type": "code",
      "metadata": {
        "id": "3a4gO4IXPC3G",
        "colab_type": "code",
        "colab": {}
      },
      "source": [
        "#Model_4.Recommendation based on similarity between project contents"
      ],
      "execution_count": 22,
      "outputs": []
    },
    {
      "cell_type": "code",
      "metadata": {
        "id": "ta4Qk0KlPciv",
        "colab_type": "code",
        "colab": {}
      },
      "source": [
        "train_data = tc.SFrame(train) \n",
        "test_data = tc.SFrame(test)"
      ],
      "execution_count": 24,
      "outputs": []
    },
    {
      "cell_type": "code",
      "metadata": {
        "id": "KCiJY43APC5S",
        "colab_type": "code",
        "colab": {
          "base_uri": "https://localhost:8080/",
          "height": 780
        },
        "outputId": "56f26659-68dd-4cca-b21f-5c6cbec54951"
      },
      "source": [
        "# training the model\n",
        "item_sim_model = tc.item_similarity_recommender.create(train_data, user_id='userId', item_id='movieId', target='rating', similarity_type='cosine')\n",
        "\n",
        "# making recommendations\n",
        "item_sim_recomm = item_sim_model.recommend(users=[1,2,3,4,5],k=5)\n",
        "item_sim_recomm.print_rows(num_rows=15)"
      ],
      "execution_count": 25,
      "outputs": [
        {
          "output_type": "display_data",
          "data": {
            "text/html": [
              "<pre>Warning: Ignoring columns timestamp;</pre>"
            ],
            "text/plain": [
              "Warning: Ignoring columns timestamp;"
            ]
          },
          "metadata": {
            "tags": []
          }
        },
        {
          "output_type": "display_data",
          "data": {
            "text/html": [
              "<pre>    To use these columns in scoring predictions, use a model that allows the use of additional features.</pre>"
            ],
            "text/plain": [
              "    To use these columns in scoring predictions, use a model that allows the use of additional features."
            ]
          },
          "metadata": {
            "tags": []
          }
        },
        {
          "output_type": "display_data",
          "data": {
            "text/html": [
              "<pre>Preparing data set.</pre>"
            ],
            "text/plain": [
              "Preparing data set."
            ]
          },
          "metadata": {
            "tags": []
          }
        },
        {
          "output_type": "display_data",
          "data": {
            "text/html": [
              "<pre>    Data has 70000 observations with 943 users and 1635 items.</pre>"
            ],
            "text/plain": [
              "    Data has 70000 observations with 943 users and 1635 items."
            ]
          },
          "metadata": {
            "tags": []
          }
        },
        {
          "output_type": "display_data",
          "data": {
            "text/html": [
              "<pre>    Data prepared in: 0.156069s</pre>"
            ],
            "text/plain": [
              "    Data prepared in: 0.156069s"
            ]
          },
          "metadata": {
            "tags": []
          }
        },
        {
          "output_type": "display_data",
          "data": {
            "text/html": [
              "<pre>Training model from provided data.</pre>"
            ],
            "text/plain": [
              "Training model from provided data."
            ]
          },
          "metadata": {
            "tags": []
          }
        },
        {
          "output_type": "display_data",
          "data": {
            "text/html": [
              "<pre>Gathering per-item and per-user statistics.</pre>"
            ],
            "text/plain": [
              "Gathering per-item and per-user statistics."
            ]
          },
          "metadata": {
            "tags": []
          }
        },
        {
          "output_type": "display_data",
          "data": {
            "text/html": [
              "<pre>+--------------------------------+------------+</pre>"
            ],
            "text/plain": [
              "+--------------------------------+------------+"
            ]
          },
          "metadata": {
            "tags": []
          }
        },
        {
          "output_type": "display_data",
          "data": {
            "text/html": [
              "<pre>| Elapsed Time (Item Statistics) | % Complete |</pre>"
            ],
            "text/plain": [
              "| Elapsed Time (Item Statistics) | % Complete |"
            ]
          },
          "metadata": {
            "tags": []
          }
        },
        {
          "output_type": "display_data",
          "data": {
            "text/html": [
              "<pre>+--------------------------------+------------+</pre>"
            ],
            "text/plain": [
              "+--------------------------------+------------+"
            ]
          },
          "metadata": {
            "tags": []
          }
        },
        {
          "output_type": "display_data",
          "data": {
            "text/html": [
              "<pre>| 14.13ms                        | 100        |</pre>"
            ],
            "text/plain": [
              "| 14.13ms                        | 100        |"
            ]
          },
          "metadata": {
            "tags": []
          }
        },
        {
          "output_type": "display_data",
          "data": {
            "text/html": [
              "<pre>+--------------------------------+------------+</pre>"
            ],
            "text/plain": [
              "+--------------------------------+------------+"
            ]
          },
          "metadata": {
            "tags": []
          }
        },
        {
          "output_type": "display_data",
          "data": {
            "text/html": [
              "<pre>Setting up lookup tables.</pre>"
            ],
            "text/plain": [
              "Setting up lookup tables."
            ]
          },
          "metadata": {
            "tags": []
          }
        },
        {
          "output_type": "display_data",
          "data": {
            "text/html": [
              "<pre>Processing data in one pass using dense lookup tables.</pre>"
            ],
            "text/plain": [
              "Processing data in one pass using dense lookup tables."
            ]
          },
          "metadata": {
            "tags": []
          }
        },
        {
          "output_type": "display_data",
          "data": {
            "text/html": [
              "<pre>+-------------------------------------+------------------+-----------------+</pre>"
            ],
            "text/plain": [
              "+-------------------------------------+------------------+-----------------+"
            ]
          },
          "metadata": {
            "tags": []
          }
        },
        {
          "output_type": "display_data",
          "data": {
            "text/html": [
              "<pre>| Elapsed Time (Constructing Lookups) | Total % Complete | Items Processed |</pre>"
            ],
            "text/plain": [
              "| Elapsed Time (Constructing Lookups) | Total % Complete | Items Processed |"
            ]
          },
          "metadata": {
            "tags": []
          }
        },
        {
          "output_type": "display_data",
          "data": {
            "text/html": [
              "<pre>+-------------------------------------+------------------+-----------------+</pre>"
            ],
            "text/plain": [
              "+-------------------------------------+------------------+-----------------+"
            ]
          },
          "metadata": {
            "tags": []
          }
        },
        {
          "output_type": "display_data",
          "data": {
            "text/html": [
              "<pre>| 44.036ms                            | 0                | 0               |</pre>"
            ],
            "text/plain": [
              "| 44.036ms                            | 0                | 0               |"
            ]
          },
          "metadata": {
            "tags": []
          }
        },
        {
          "output_type": "display_data",
          "data": {
            "text/html": [
              "<pre>| 264.63ms                            | 100              | 1635            |</pre>"
            ],
            "text/plain": [
              "| 264.63ms                            | 100              | 1635            |"
            ]
          },
          "metadata": {
            "tags": []
          }
        },
        {
          "output_type": "display_data",
          "data": {
            "text/html": [
              "<pre>+-------------------------------------+------------------+-----------------+</pre>"
            ],
            "text/plain": [
              "+-------------------------------------+------------------+-----------------+"
            ]
          },
          "metadata": {
            "tags": []
          }
        },
        {
          "output_type": "display_data",
          "data": {
            "text/html": [
              "<pre>Finalizing lookup tables.</pre>"
            ],
            "text/plain": [
              "Finalizing lookup tables."
            ]
          },
          "metadata": {
            "tags": []
          }
        },
        {
          "output_type": "display_data",
          "data": {
            "text/html": [
              "<pre>Generating candidate set for working with new users.</pre>"
            ],
            "text/plain": [
              "Generating candidate set for working with new users."
            ]
          },
          "metadata": {
            "tags": []
          }
        },
        {
          "output_type": "display_data",
          "data": {
            "text/html": [
              "<pre>Finished training in 0.289774s</pre>"
            ],
            "text/plain": [
              "Finished training in 0.289774s"
            ]
          },
          "metadata": {
            "tags": []
          }
        },
        {
          "output_type": "stream",
          "text": [
            "+--------+---------+---------------------+------+\n",
            "| userId | movieId |        score        | rank |\n",
            "+--------+---------+---------------------+------+\n",
            "|   1    |   204   |  0.8262035891096643 |  1   |\n",
            "|   1    |   195   |  0.7711618482432467 |  2   |\n",
            "|   1    |    98   |  0.7379911874837064 |  3   |\n",
            "|   1    |   176   |  0.5844627799505883 |  4   |\n",
            "|   1    |    79   |  0.5708367206314777 |  5   |\n",
            "|   2    |    50   |  0.7805349605028019 |  1   |\n",
            "|   2    |   237   |  0.7716677687888922 |  2   |\n",
            "|   2    |   127   |  0.7499204971069513 |  3   |\n",
            "|   2    |    7    |  0.7085846939752268 |  4   |\n",
            "|   2    |   181   |  0.6973640419716058 |  5   |\n",
            "|   3    |   313   |  0.5617370666601719 |  1   |\n",
            "|   3    |   300   |  0.554568866888682  |  2   |\n",
            "|   3    |   286   | 0.46072702682935274 |  3   |\n",
            "|   3    |   272   |  0.4406868204092368 |  4   |\n",
            "|   3    |   879   | 0.42208088361299956 |  5   |\n",
            "+--------+---------+---------------------+------+\n",
            "[25 rows x 4 columns]\n",
            "\n"
          ],
          "name": "stdout"
        }
      ]
    },
    {
      "cell_type": "code",
      "metadata": {
        "id": "40wxoqepPh7y",
        "colab_type": "code",
        "colab": {
          "base_uri": "https://localhost:8080/",
          "height": 919
        },
        "outputId": "b81df62e-30d0-4d6a-a8cb-b992474cb3a8"
      },
      "source": [
        "item_sim_model.evaluate_precision_recall(test_data) "
      ],
      "execution_count": 27,
      "outputs": [
        {
          "output_type": "execute_result",
          "data": {
            "text/plain": [
              "{'precision_recall_by_user': Columns:\n",
              " \tuserId\tint\n",
              " \tcutoff\tint\n",
              " \tprecision\tfloat\n",
              " \trecall\tfloat\n",
              " \tcount\tint\n",
              " \n",
              " Rows: 16974\n",
              " \n",
              " Data:\n",
              " +--------+--------+--------------------+----------------------+-------+\n",
              " | userId | cutoff |     precision      |        recall        | count |\n",
              " +--------+--------+--------------------+----------------------+-------+\n",
              " |  600   |   1    |        1.0         | 0.041666666666666664 |   24  |\n",
              " |  600   |   2    |        0.5         | 0.041666666666666664 |   24  |\n",
              " |  600   |   3    | 0.6666666666666666 | 0.08333333333333333  |   24  |\n",
              " |  600   |   4    |        0.5         | 0.08333333333333333  |   24  |\n",
              " |  600   |   5    |        0.6         |        0.125         |   24  |\n",
              " |  600   |   6    |        0.5         |        0.125         |   24  |\n",
              " |  600   |   7    | 0.5714285714285714 | 0.16666666666666666  |   24  |\n",
              " |  600   |   8    |        0.5         | 0.16666666666666666  |   24  |\n",
              " |  600   |   9    | 0.5555555555555556 | 0.20833333333333334  |   24  |\n",
              " |  600   |   10   |        0.5         | 0.20833333333333334  |   24  |\n",
              " +--------+--------+--------------------+----------------------+-------+\n",
              " [16974 rows x 5 columns]\n",
              " Note: Only the head of the SFrame is printed.\n",
              " You can use print_rows(num_rows=m, num_columns=n) to print more rows and columns.,\n",
              " 'precision_recall_overall': Columns:\n",
              " \tcutoff\tint\n",
              " \tprecision\tfloat\n",
              " \trecall\tfloat\n",
              " \n",
              " Rows: 18\n",
              " \n",
              " Data:\n",
              " +--------+---------------------+---------------------+\n",
              " | cutoff |      precision      |        recall       |\n",
              " +--------+---------------------+---------------------+\n",
              " |   1    |  0.5482502651113468 | 0.02862812918014183 |\n",
              " |   2    |  0.5047720042417809 | 0.05161144351965964 |\n",
              " |   3    |  0.4740190880169671 |  0.0700297566632544 |\n",
              " |   4    | 0.45068928950159065 |  0.0860795393109468 |\n",
              " |   5    |  0.4309650053022268 | 0.10133788455524159 |\n",
              " |   6    |  0.4171085189112759 | 0.11659418630901336 |\n",
              " |   7    |  0.4056961066505075 | 0.13175033501909514 |\n",
              " |   8    | 0.39435312831389185 |  0.1447054118841464 |\n",
              " |   9    | 0.38305643926004473 | 0.15579423059872574 |\n",
              " |   10   | 0.37295864262990475 | 0.16690917560083576 |\n",
              " +--------+---------------------+---------------------+\n",
              " [18 rows x 3 columns]\n",
              " Note: Only the head of the SFrame is printed.\n",
              " You can use print_rows(num_rows=m, num_columns=n) to print more rows and columns.}"
            ]
          },
          "metadata": {
            "tags": []
          },
          "execution_count": 27
        }
      ]
    },
    {
      "cell_type": "code",
      "metadata": {
        "id": "5-7nm_59PiHf",
        "colab_type": "code",
        "colab": {
          "base_uri": "https://localhost:8080/",
          "height": 1000
        },
        "outputId": "664bb9a6-a5f4-4a2c-9bda-56787a4d14e2"
      },
      "source": [
        "item_sim_model.evaluate(test_data,metric='rmse') #Checkig the RMSE value on test data"
      ],
      "execution_count": 29,
      "outputs": [
        {
          "output_type": "stream",
          "text": [
            "\n",
            "Overall RMSE: 3.477373731746073\n",
            "\n",
            "Per User RMSE (best)\n",
            "+--------+--------------------+-------+\n",
            "| userId |        rmse        | count |\n",
            "+--------+--------------------+-------+\n",
            "|  181   | 1.7405037758389272 |  125  |\n",
            "+--------+--------------------+-------+\n",
            "[1 rows x 3 columns]\n",
            "\n",
            "\n",
            "Per User RMSE (worst)\n",
            "+--------+-------------------+-------+\n",
            "| userId |        rmse       | count |\n",
            "+--------+-------------------+-------+\n",
            "|  242   | 4.920210981946037 |   4   |\n",
            "+--------+-------------------+-------+\n",
            "[1 rows x 3 columns]\n",
            "\n",
            "\n",
            "Per Item RMSE (best)\n",
            "+---------+-------------------+-------+\n",
            "| movieId |        rmse       | count |\n",
            "+---------+-------------------+-------+\n",
            "|   1430  | 0.953660741794941 |   1   |\n",
            "+---------+-------------------+-------+\n",
            "[1 rows x 3 columns]\n",
            "\n",
            "\n",
            "Per Item RMSE (worst)\n",
            "+---------+------+-------+\n",
            "| movieId | rmse | count |\n",
            "+---------+------+-------+\n",
            "|   1154  | 5.0  |   1   |\n",
            "+---------+------+-------+\n",
            "[1 rows x 3 columns]\n",
            "\n"
          ],
          "name": "stdout"
        },
        {
          "output_type": "execute_result",
          "data": {
            "text/plain": [
              "{'rmse_by_item': Columns:\n",
              " \tmovieId\tint\n",
              " \trmse\tfloat\n",
              " \tcount\tint\n",
              " \n",
              " Rows: 1486\n",
              " \n",
              " Data:\n",
              " +---------+--------------------+-------+\n",
              " | movieId |        rmse        | count |\n",
              " +---------+--------------------+-------+\n",
              " |   1611  | 2.947573614471099  |   1   |\n",
              " |   118   | 3.1263389252008387 |   86  |\n",
              " |   660   | 3.4418513606480903 |   45  |\n",
              " |   1236  |        3.0         |   1   |\n",
              " |   1657  |        3.0         |   1   |\n",
              " |   839   | 0.9908659633699354 |   1   |\n",
              " |   699   | 3.726757044659807  |   34  |\n",
              " |   567   | 2.809704280620214  |   10  |\n",
              " |   773   | 3.406679040001193  |   5   |\n",
              " |   1029  | 1.9856801785049294 |   6   |\n",
              " +---------+--------------------+-------+\n",
              " [1486 rows x 3 columns]\n",
              " Note: Only the head of the SFrame is printed.\n",
              " You can use print_rows(num_rows=m, num_columns=n) to print more rows and columns.,\n",
              " 'rmse_by_user': Columns:\n",
              " \tuserId\tint\n",
              " \trmse\tfloat\n",
              " \tcount\tint\n",
              " \n",
              " Rows: 943\n",
              " \n",
              " Data:\n",
              " +--------+--------------------+-------+\n",
              " | userId |        rmse        | count |\n",
              " +--------+--------------------+-------+\n",
              " |  118   | 4.447035010162095  |   28  |\n",
              " |  660   | 2.610747478900724  |   71  |\n",
              " |  839   | 2.9445986078720847 |   25  |\n",
              " |  699   | 3.0464522648641523 |   48  |\n",
              " |  567   | 3.9793929845643503 |   50  |\n",
              " |  773   | 3.557084314568907  |   44  |\n",
              " |  435   | 3.318445061915735  |  110  |\n",
              " |  554   | 3.4100594847868657 |   44  |\n",
              " |  898   | 3.7195454395857985 |   6   |\n",
              " |  840   | 3.9236048495379503 |   55  |\n",
              " +--------+--------------------+-------+\n",
              " [943 rows x 3 columns]\n",
              " Note: Only the head of the SFrame is printed.\n",
              " You can use print_rows(num_rows=m, num_columns=n) to print more rows and columns.,\n",
              " 'rmse_overall': 3.477373731746073}"
            ]
          },
          "metadata": {
            "tags": []
          },
          "execution_count": 29
        }
      ]
    },
    {
      "cell_type": "code",
      "metadata": {
        "id": "jupw8DSrPC8r",
        "colab_type": "code",
        "colab": {}
      },
      "source": [
        "#Model_1.Collaborative filtering(Jupyter notebook) rmse value on test data = 2.428571\n",
        "#Model_2.Popularity based rmse value on test data = 1.0228\n",
        "#Model_3.Content based , rmse value on test data= 1.0658\n",
        "#Model_4.similarity between project contents rmse values on test data=3.477"
      ],
      "execution_count": null,
      "outputs": []
    },
    {
      "cell_type": "code",
      "metadata": {
        "id": "F8iMpRdYSE5O",
        "colab_type": "code",
        "colab": {}
      },
      "source": [
        "#RMSE can be interpreted as the standard deviation of the unexplained variance, and has the useful property of being in the same units as the response variable. Lower values of RMSE indicate better fit.\n",
        "\n",
        "#Out of 4 models I have selected the popularity based model as it is giving lessor rmse value compare to other models."
      ],
      "execution_count": null,
      "outputs": []
    }
  ]
}